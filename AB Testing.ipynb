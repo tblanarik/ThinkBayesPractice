{
 "cells": [
  {
   "cell_type": "markdown",
   "metadata": {},
   "source": [
    "# A/B Testing from scratch"
   ]
  },
  {
   "cell_type": "code",
   "execution_count": 2,
   "metadata": {},
   "outputs": [],
   "source": [
    "import math\n",
    "import scipy.stats"
   ]
  },
  {
   "cell_type": "code",
   "execution_count": 3,
   "metadata": {},
   "outputs": [],
   "source": [
    "N_a = 1000  # number of people shown Treatment A\n",
    "N_b = 1000  # number of people shown Control B\n",
    "C_a = 200 # number of people who clicked on A\n",
    "C_b = 160 # number of people who clicked on B"
   ]
  },
  {
   "cell_type": "code",
   "execution_count": 4,
   "metadata": {},
   "outputs": [],
   "source": [
    "mu_a = C_a / N_a # Mean of A clicks\n",
    "mu_b = C_b / N_b # Mean of B clicks"
   ]
  },
  {
   "cell_type": "code",
   "execution_count": 5,
   "metadata": {},
   "outputs": [],
   "source": [
    "sigma_a = math.sqrt((mu_a * (1 - mu_a)) / N_a) # Stdev of A clicks\n",
    "sigma_b = math.sqrt((mu_b * (1 - mu_b)) / N_b) # Stdev of B clicks"
   ]
  },
  {
   "cell_type": "code",
   "execution_count": 6,
   "metadata": {},
   "outputs": [
    {
     "name": "stdout",
     "output_type": "stream",
     "text": [
      "-2.331262020600785\n"
     ]
    }
   ],
   "source": [
    "z_score = (mu_b - mu_a) / math.sqrt(sigma_a**2 + sigma_b**2)\n",
    "print(z_score)"
   ]
  },
  {
   "cell_type": "code",
   "execution_count": 17,
   "metadata": {},
   "outputs": [
    {
     "name": "stdout",
     "output_type": "stream",
     "text": [
      "Probability of seeing results at least as extreme as this: 0.0197\n"
     ]
    }
   ],
   "source": [
    "p_value = (1-scipy.stats.norm.cdf(abs(z_score)))*2\n",
    "print(\"Probability of seeing results at least as extreme as this: {}\".format(round(p_value, 4)))"
   ]
  },
  {
   "cell_type": "code",
   "execution_count": null,
   "metadata": {},
   "outputs": [],
   "source": []
  }
 ],
 "metadata": {
  "kernelspec": {
   "display_name": "Python 3",
   "language": "python",
   "name": "python3"
  },
  "language_info": {
   "codemirror_mode": {
    "name": "ipython",
    "version": 3
   },
   "file_extension": ".py",
   "mimetype": "text/x-python",
   "name": "python",
   "nbconvert_exporter": "python",
   "pygments_lexer": "ipython3",
   "version": "3.7.5"
  }
 },
 "nbformat": 4,
 "nbformat_minor": 2
}

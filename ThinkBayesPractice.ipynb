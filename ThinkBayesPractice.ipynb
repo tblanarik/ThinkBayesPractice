{
 "cells": [
  {
   "cell_type": "markdown",
   "metadata": {},
   "source": [
    "# ThinkBayes Practice\n",
    "\n",
    "Going through the exercises from the book [ThinkBayes](https://greenteapress.com/wp/think-bayes/).\n",
    "\n",
    "Unfortunately, the book and code examples are written for Python 2, so that's what this Notebook is as well.\n",
    "\n",
    "## Instructions for getting a Python 2 Jupyter Notebook\n",
    "```\n",
    "conda create -n py2 python=2 anaconda\n",
    "conda activate py2\n",
    "ipython kernel install\n",
    "```"
   ]
  },
  {
   "cell_type": "code",
   "execution_count": 3,
   "metadata": {},
   "outputs": [],
   "source": [
    "import sys\n",
    "sys.path.append('../ThinkBayes/code/')"
   ]
  },
  {
   "cell_type": "markdown",
   "metadata": {},
   "source": [
    "### Notes\n",
    "**Bayes Theorem**\n",
    "\n",
    "```\n",
    "p(A and B) = p(B and A)\n",
    "p(A and B) = p(A)p(B|A)\n",
    "p(B and A) = P(B)p(A|B)\n",
    "p(B)p(A|B) = p(A)p(B|A)\n",
    "p(A|B) = p(A)p(B|A) / p(B)\n",
    "```\n",
    "**Diachronic Interpretation***\n",
    "\n",
    "```\n",
    "H = Hypothesis (prior)\n",
    "D = Data\n",
    "p(H|D) = p(H)p(D|H) / p(D)        p(D|H) == likelihood      p(H|D) == posterior\n",
    "```"
   ]
  },
  {
   "cell_type": "markdown",
   "metadata": {},
   "source": [
    "# Chapter 4\n",
    "## The beta distribution"
   ]
  },
  {
   "cell_type": "code",
   "execution_count": 5,
   "metadata": {},
   "outputs": [],
   "source": [
    "p = Pmf()"
   ]
  },
  {
   "cell_type": "code",
   "execution_count": null,
   "metadata": {},
   "outputs": [],
   "source": []
  }
 ],
 "metadata": {
  "kernelspec": {
   "display_name": "Python 2",
   "language": "python",
   "name": "python2"
  },
  "language_info": {
   "codemirror_mode": {
    "name": "ipython",
    "version": 2
   },
   "file_extension": ".py",
   "mimetype": "text/x-python",
   "name": "python",
   "nbconvert_exporter": "python",
   "pygments_lexer": "ipython2",
   "version": "2.7.17"
  }
 },
 "nbformat": 4,
 "nbformat_minor": 2
}
